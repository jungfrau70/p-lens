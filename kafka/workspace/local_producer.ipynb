{
 "cells": [
  {
   "cell_type": "code",
   "execution_count": 8,
   "id": "e5844492-ccfa-44e6-98e2-44837d376416",
   "metadata": {},
   "outputs": [
    {
     "name": "stdout",
     "output_type": "stream",
     "text": [
      "Overwriting local_producer.py\n"
     ]
    }
   ],
   "source": [
    "%%writefile local_producer.py\n",
    "from kafka import KafkaProducer \n",
    "\n",
    "brokers = [\"localhost:9092\"] # default port : 9092\n",
    "topicName = \"first-cluster-topic\"\n",
    "\n",
    "producer = KafkaProducer(bootstrap_servers = brokers)\n",
    "\n",
    "producer.send(topicName, b\"Hello cluster world 2\") # send message in byte format\n",
    "producer.flush() # clean up buffer"
   ]
  },
  {
   "cell_type": "code",
   "execution_count": 10,
   "id": "a90fa918-c8d6-4f78-9524-c37a48b4390e",
   "metadata": {},
   "outputs": [],
   "source": [
    "! python local_producer.py"
   ]
  },
  {
   "cell_type": "code",
   "execution_count": null,
   "id": "4d3e1588-885b-43a3-bf0e-39cd549dfbf0",
   "metadata": {},
   "outputs": [],
   "source": []
  }
 ],
 "metadata": {
  "kernelspec": {
   "display_name": "Python 3 (ipykernel)",
   "language": "python",
   "name": "python3"
  },
  "language_info": {
   "codemirror_mode": {
    "name": "ipython",
    "version": 3
   },
   "file_extension": ".py",
   "mimetype": "text/x-python",
   "name": "python",
   "nbconvert_exporter": "python",
   "pygments_lexer": "ipython3",
   "version": "3.7.0"
  }
 },
 "nbformat": 4,
 "nbformat_minor": 5
}

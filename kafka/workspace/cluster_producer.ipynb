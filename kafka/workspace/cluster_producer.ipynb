{
 "cells": [
  {
   "cell_type": "markdown",
   "id": "45f410f8-9c68-4b45-adda-46476f16ca49",
   "metadata": {},
   "source": [
    "# first-cluster-topic with One Partition"
   ]
  },
  {
   "cell_type": "code",
   "execution_count": 1,
   "id": "e5844492-ccfa-44e6-98e2-44837d376416",
   "metadata": {},
   "outputs": [
    {
     "name": "stdout",
     "output_type": "stream",
     "text": [
      "Overwriting ./cluster/cluster-producer.py\n"
     ]
    }
   ],
   "source": [
    "%%writefile ./cluster/cluster-producer.py\n",
    "\n",
    "from kafka import KafkaProducer \n",
    "\n",
    "brokers = [\"kafka1:19091\", \"kafka2:19092\", \"kafka3:19093\"]\n",
    "# brokers = [\"kafka1:9091\", \"kafka2:9092\", \"kafka3:9093\"]\n",
    "\n",
    "topicName = \"first-cluster-topic\"\n",
    "\n",
    "producer = KafkaProducer(bootstrap_servers = brokers)\n",
    "\n",
    "producer.send(topicName, b\"Hello cluster world 2\") # send message in byte format\n",
    "producer.flush() # clean up buffer"
   ]
  },
  {
   "cell_type": "code",
   "execution_count": 3,
   "id": "a90fa918-c8d6-4f78-9524-c37a48b4390e",
   "metadata": {},
   "outputs": [],
   "source": [
    "! python3 ./cluster/cluster-producer.py"
   ]
  },
  {
   "cell_type": "markdown",
   "id": "6bbfe2ec-5d46-4340-92ed-c0de57062be9",
   "metadata": {},
   "source": [
    "# 3rd-cluster-topic with 3 Partitions"
   ]
  },
  {
   "cell_type": "code",
   "execution_count": 5,
   "id": "d9ca59a4-8242-41fc-962d-79c6f1f26d18",
   "metadata": {},
   "outputs": [
    {
     "name": "stdout",
     "output_type": "stream",
     "text": [
      "Writing ./cluster/cluster-producer-3partitions.py\n"
     ]
    }
   ],
   "source": [
    "%%writefile ./cluster/cluster-producer-3partitions.py\n",
    "from kafka import KafkaProducer \n",
    "\n",
    "brokers = [\"kafka1:19091\", \"kafka2:19092\", \"kafka3:19093\"]\n",
    "# brokers = [\"kafka1:9091\", \"kafka2:9092\", \"kafka3:9093\"]\n",
    "\n",
    "topicName = \"3rd-cluster-topic\"\n",
    "\n",
    "producer = KafkaProducer(bootstrap_servers = brokers)\n",
    "\n",
    "producer.send(topicName, b\"Hello cluster world 2\") # send message in byte format\n",
    "producer.flush() # clean up buffer"
   ]
  },
  {
   "cell_type": "code",
   "execution_count": 6,
   "id": "5de52a41-6453-4bc6-a300-a1d48b14806a",
   "metadata": {},
   "outputs": [],
   "source": [
    "! python3 ./cluster/cluster-producer-3partitions.py"
   ]
  },
  {
   "cell_type": "code",
   "execution_count": null,
   "id": "425fb5ab-ae5c-41d4-9201-eb8b3a62f398",
   "metadata": {},
   "outputs": [],
   "source": []
  }
 ],
 "metadata": {
  "kernelspec": {
   "display_name": "Python 3",
   "language": "python",
   "name": "python3"
  },
  "language_info": {
   "codemirror_mode": {
    "name": "ipython",
    "version": 3
   },
   "file_extension": ".py",
   "mimetype": "text/x-python",
   "name": "python",
   "nbconvert_exporter": "python",
   "pygments_lexer": "ipython3",
   "version": "3.6.13"
  }
 },
 "nbformat": 4,
 "nbformat_minor": 5
}

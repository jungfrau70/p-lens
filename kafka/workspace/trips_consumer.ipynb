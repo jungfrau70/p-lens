{
 "cells": [
  {
   "cell_type": "code",
   "execution_count": 1,
   "id": "29375806-912b-47e4-a6cd-9ee5780fec99",
   "metadata": {},
   "outputs": [
    {
     "name": "stdout",
     "output_type": "stream",
     "text": [
      "Overwriting ./trips/trips_consumer.py\n"
     ]
    }
   ],
   "source": [
    "%%writefile ./trips/trips_consumer.py\n",
    "\n",
    "from kafka import KafkaConsumer \n",
    "import json \n",
    "\n",
    "brokers = [\"kafka1:19091\", \"kafka2:19092\", \"kafka3:19093\"]\n",
    "# brokers = [\"kafka1:9091\", \"kafka2:9092\", \"kafka3:9093\"]\n",
    "\n",
    "topicName = \"trips\"\n",
    "consumer = KafkaConsumer(topicName, bootstrap_servers=brokers)\n",
    "\n",
    "for message in consumer:\n",
    "  row = json.loads(message.value.decode())\n",
    "  #print(row)\n",
    "  \n",
    "  # processing only if over $10\n",
    "  if float(row[10]) > 10:\n",
    "    print(row[10])"
   ]
  },
  {
   "cell_type": "code",
   "execution_count": null,
   "id": "513575e5-a900-46e7-b626-40403e192915",
   "metadata": {},
   "outputs": [
    {
     "name": "stdout",
     "output_type": "stream",
     "text": [
      "42\n",
      "29\n",
      "16.5\n",
      "16\n",
      "18\n",
      "27.5\n",
      "12\n",
      "20.5\n",
      "24.5\n",
      "17\n",
      "52\n",
      "20\n",
      "12.5\n",
      "17\n",
      "18\n",
      "39\n",
      "14.5\n",
      "12\n",
      "32.5\n",
      "10.5\n",
      "38\n",
      "21\n",
      "17.2\n",
      "16.5\n",
      "12\n",
      "17\n",
      "52\n",
      "11\n",
      "10.5\n",
      "21.5\n",
      "13.5\n",
      "13.5\n",
      "52\n",
      "15.5\n",
      "11.5\n",
      "14\n",
      "21\n",
      "10.5\n"
     ]
    }
   ],
   "source": [
    "! python3 ./trips/trips_consumer.py"
   ]
  },
  {
   "cell_type": "code",
   "execution_count": null,
   "id": "045e94ac-28f9-4eaa-b888-5db3925d0500",
   "metadata": {},
   "outputs": [],
   "source": []
  }
 ],
 "metadata": {
  "kernelspec": {
   "display_name": "Python 3",
   "language": "python",
   "name": "python3"
  },
  "language_info": {
   "codemirror_mode": {
    "name": "ipython",
    "version": 3
   },
   "file_extension": ".py",
   "mimetype": "text/x-python",
   "name": "python",
   "nbconvert_exporter": "python",
   "pygments_lexer": "ipython3",
   "version": "3.6.13"
  }
 },
 "nbformat": 4,
 "nbformat_minor": 5
}

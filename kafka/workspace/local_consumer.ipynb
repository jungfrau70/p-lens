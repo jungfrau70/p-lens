{
 "cells": [
  {
   "cell_type": "code",
   "execution_count": 4,
   "id": "e5844492-ccfa-44e6-98e2-44837d376416",
   "metadata": {},
   "outputs": [
    {
     "name": "stdout",
     "output_type": "stream",
     "text": [
      "Overwriting local_consumer.py\n"
     ]
    }
   ],
   "source": [
    "%%writefile local_consumer.py\n",
    "# %load cluster_consumer.py\n",
    "from kafka import KafkaConsumer \n",
    "\n",
    "brokers = [\"localhost:9092\"]\n",
    "\n",
    "# consumer works like a python generator\n",
    "consumer = KafkaConsumer(\"first-cluster-topic\", bootstrap_servers=brokers) \n",
    "\n",
    "for message in consumer:\n",
    "  print(message)\n"
   ]
  },
  {
   "cell_type": "code",
   "execution_count": null,
   "id": "a90fa918-c8d6-4f78-9524-c37a48b4390e",
   "metadata": {},
   "outputs": [
    {
     "name": "stdout",
     "output_type": "stream",
     "text": [
      "ConsumerRecord(topic='first-cluster-topic', partition=0, offset=1, timestamp=1648192542115, timestamp_type=0, key=None, value=b'Hello cluster world 2', headers=[], checksum=None, serialized_key_size=-1, serialized_value_size=21, serialized_header_size=-1)\n"
     ]
    }
   ],
   "source": [
    "! python local_consumer.py"
   ]
  },
  {
   "cell_type": "code",
   "execution_count": null,
   "id": "bca3e31f-435b-4222-b823-58716677587e",
   "metadata": {},
   "outputs": [],
   "source": []
  }
 ],
 "metadata": {
  "kernelspec": {
   "display_name": "Python 3 (ipykernel)",
   "language": "python",
   "name": "python3"
  },
  "language_info": {
   "codemirror_mode": {
    "name": "ipython",
    "version": 3
   },
   "file_extension": ".py",
   "mimetype": "text/x-python",
   "name": "python",
   "nbconvert_exporter": "python",
   "pygments_lexer": "ipython3",
   "version": "3.7.0"
  }
 },
 "nbformat": 4,
 "nbformat_minor": 5
}

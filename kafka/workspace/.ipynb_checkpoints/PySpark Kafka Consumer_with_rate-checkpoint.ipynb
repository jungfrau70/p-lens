{
 "cells": [
  {
   "cell_type": "markdown",
   "id": "bd8032fb",
   "metadata": {},
   "source": [
    "# Python KafkaConsumer"
   ]
  },
  {
   "cell_type": "code",
   "execution_count": null,
   "id": "47054e5d",
   "metadata": {},
   "outputs": [
    {
     "name": "stdout",
     "output_type": "stream",
     "text": [
      "ConsumerRecord(topic='airflow-log', partition=0, offset=7125, timestamp=1648985727372, timestamp_type=0, key=None, value=b'{\"@timestamp\":\"2022-04-03T11:35:27.372Z\",\"@metadata\":{\"beat\":\"filebeat\",\"type\":\"_doc\",\"version\":\"8.1.2\"},\"host\":{\"name\":\"deploy-server\"},\"agent\":{\"name\":\"deploy-server\",\"type\":\"filebeat\",\"version\":\"8.1.2\",\"ephemeral_id\":\"38022be4-bad5-4ae2-a94a-eeea5ea81f56\",\"id\":\"93590cb2-3fe0-40d6-b21c-b1021a053ce6\"},\"log\":{\"offset\":1073683,\"file\":{\"path\":\"/root/PySpark/workspace/logs/dag_processor_manager/dag_processor_manager.log\"}},\"message\":\"[2022-04-03 11:35:22,009] {manager.py:1069} INFO - Failing jobs without heartbeat after 2022-04-03 11:30:22.009587+00:00\",\"input\":{\"type\":\"log\"},\"ecs\":{\"version\":\"8.0.0\"}}', headers=[], checksum=None, serialized_key_size=-1, serialized_value_size=606, serialized_header_size=-1)\n",
      "ConsumerRecord(topic='airflow-log', partition=0, offset=7126, timestamp=1648985734373, timestamp_type=0, key=None, value=b'{\"@timestamp\":\"2022-04-03T11:35:34.373Z\",\"@metadata\":{\"beat\":\"filebeat\",\"type\":\"_doc\",\"version\":\"8.1.2\"},\"input\":{\"type\":\"log\"},\"ecs\":{\"version\":\"8.0.0\"},\"host\":{\"name\":\"deploy-server\"},\"agent\":{\"version\":\"8.1.2\",\"ephemeral_id\":\"38022be4-bad5-4ae2-a94a-eeea5ea81f56\",\"id\":\"93590cb2-3fe0-40d6-b21c-b1021a053ce6\",\"name\":\"deploy-server\",\"type\":\"filebeat\"},\"log\":{\"offset\":1073804,\"file\":{\"path\":\"/root/PySpark/workspace/logs/dag_processor_manager/dag_processor_manager.log\"}},\"message\":\"[2022-04-03 11:35:32,044] {manager.py:1065} INFO - Finding \\'running\\' jobs without a recent heartbeat\"}', headers=[], checksum=None, serialized_key_size=-1, serialized_value_size=586, serialized_header_size=-1)\n",
      "ConsumerRecord(topic='airflow-log', partition=0, offset=7127, timestamp=1648985734373, timestamp_type=0, key=None, value=b'{\"@timestamp\":\"2022-04-03T11:35:34.373Z\",\"@metadata\":{\"beat\":\"filebeat\",\"type\":\"_doc\",\"version\":\"8.1.2\"},\"log\":{\"offset\":1073905,\"file\":{\"path\":\"/root/PySpark/workspace/logs/dag_processor_manager/dag_processor_manager.log\"}},\"message\":\"[2022-04-03 11:35:32,044] {manager.py:1069} INFO - Failing jobs without heartbeat after 2022-04-03 11:30:32.044475+00:00\",\"input\":{\"type\":\"log\"},\"ecs\":{\"version\":\"8.0.0\"},\"host\":{\"name\":\"deploy-server\"},\"agent\":{\"version\":\"8.1.2\",\"ephemeral_id\":\"38022be4-bad5-4ae2-a94a-eeea5ea81f56\",\"id\":\"93590cb2-3fe0-40d6-b21c-b1021a053ce6\",\"name\":\"deploy-server\",\"type\":\"filebeat\"}}', headers=[], checksum=None, serialized_key_size=-1, serialized_value_size=606, serialized_header_size=-1)\n",
      "ConsumerRecord(topic='airflow-log', partition=0, offset=7128, timestamp=1648985735374, timestamp_type=0, key=None, value=b'{\"@timestamp\":\"2022-04-03T11:35:35.374Z\",\"@metadata\":{\"beat\":\"filebeat\",\"type\":\"_doc\",\"version\":\"8.1.2\"},\"input\":{\"type\":\"log\"},\"ecs\":{\"version\":\"8.0.0\"},\"host\":{\"name\":\"deploy-server\"},\"agent\":{\"version\":\"8.1.2\",\"ephemeral_id\":\"38022be4-bad5-4ae2-a94a-eeea5ea81f56\",\"id\":\"93590cb2-3fe0-40d6-b21c-b1021a053ce6\",\"name\":\"deploy-server\",\"type\":\"filebeat\"},\"log\":{\"offset\":1074026,\"file\":{\"path\":\"/root/PySpark/workspace/logs/dag_processor_manager/dag_processor_manager.log\"}},\"message\":\"[2022-04-03 11:35:35,065] {manager.py:663} INFO - Searching for files in /opt/airflow/dags\"}', headers=[], checksum=None, serialized_key_size=-1, serialized_value_size=576, serialized_header_size=-1)\n"
     ]
    }
   ],
   "source": [
    "from kafka import KafkaConsumer \n",
    "\n",
    "brokers = [\"kafka1:19091\", \"kafka2:19092\", \"kafka3:19093\"]\n",
    "\n",
    "# consumer works like a python generator\n",
    "consumer = KafkaConsumer(\"airflow-log\", bootstrap_servers=brokers) \n",
    "\n",
    "for message in consumer:\n",
    "  print(message)"
   ]
  },
  {
   "cell_type": "markdown",
   "id": "e495bf63",
   "metadata": {},
   "source": [
    "# PySpark Consumer for Structured Streaming"
   ]
  },
  {
   "cell_type": "code",
   "execution_count": 1,
   "id": "453a5c26",
   "metadata": {},
   "outputs": [
    {
     "data": {
      "text/html": [
       "\n",
       "            <div>\n",
       "                <p><b>SparkSession - hive</b></p>\n",
       "                \n",
       "        <div>\n",
       "            <p><b>SparkContext</b></p>\n",
       "\n",
       "            <p><a href=\"http://localhost:4041\">Spark UI</a></p>\n",
       "\n",
       "            <dl>\n",
       "              <dt>Version</dt>\n",
       "                <dd><code>v3.1.3</code></dd>\n",
       "              <dt>Master</dt>\n",
       "                <dd><code>local</code></dd>\n",
       "              <dt>AppName</dt>\n",
       "                <dd><code>PySparkShell</code></dd>\n",
       "            </dl>\n",
       "        </div>\n",
       "        \n",
       "            </div>\n",
       "        "
      ],
      "text/plain": [
       "<pyspark.sql.session.SparkSession at 0x7f7569982c88>"
      ]
     },
     "execution_count": 1,
     "metadata": {},
     "output_type": "execute_result"
    }
   ],
   "source": [
    "spark"
   ]
  },
  {
   "cell_type": "code",
   "execution_count": 1,
   "id": "8881f181",
   "metadata": {},
   "outputs": [],
   "source": [
    "from pyspark.sql import SparkSession\n",
    "from pyspark.sql.functions import explode\n",
    "from pyspark.sql.functions import split\n",
    "# from pyspark.sql.functions import *\n",
    "from pyspark.sql.types import *\n",
    "import math\n",
    "import string\n",
    "import random\n",
    "import os"
   ]
  },
  {
   "cell_type": "code",
   "execution_count": 2,
   "id": "e486b496",
   "metadata": {},
   "outputs": [],
   "source": [
    "# Construct a streaming DataFrame that reads from testtopic\n",
    "KAFKA_OUTPUT_TOPIC_NAME_CONS = \"airflow-log\"\n",
    "KAFKA_BOOTSTRAP_SERVERS_CONS = [\"kafka1:19091\", \"kafka2:19092\", \"kafka3:19093\"]\n",
    "\n",
    "df  = spark \\\n",
    "    .readStream \\\n",
    "    .format(\"rate\") \\\n",
    "    .option(\"kafka.bootstrap.servers\",KAFKA_BOOTSTRAP_SERVERS_CONS ) \\\n",
    "    .option(\"subscribe\", KAFKA_OUTPUT_TOPIC_NAME_CONS ) \\\n",
    "    .option(\"startingOffsets\", \"latest\") \\\n",
    "    .option(\"failOnDataLoss\",\"False\") \\\n",
    "    .load()\n",
    "\n",
    "# df = spark \\\n",
    "#     .readStream \\\n",
    "#     .format(\"kafka\") \\\n",
    "#     .option(\"kafka.bootstrap.servers\",KAFKA_BOOTSTRAP_SERVERS_CONS ) \\\n",
    "#     .option(\"subscribe\", KAFKA_OUTPUT_TOPIC_NAME_CONS ) \\\n",
    "#     .load()\n",
    "# df.selectExpr(\"CAST(key AS STRING)\", \"CAST(value AS STRING)\")"
   ]
  },
  {
   "cell_type": "code",
   "execution_count": 3,
   "id": "44cb9462",
   "metadata": {},
   "outputs": [],
   "source": [
    "ds = df.selectExpr(\"CAST(value AS STRING)\")"
   ]
  },
  {
   "cell_type": "markdown",
   "id": "6a9d41da",
   "metadata": {},
   "source": [
    "# Create output for Spark Structured Streaming"
   ]
  },
  {
   "cell_type": "code",
   "execution_count": 4,
   "id": "b5a6a9ee",
   "metadata": {},
   "outputs": [],
   "source": [
    "rawQuery = df \\\n",
    "        .writeStream \\\n",
    "        .queryName(\"qraw\")\\\n",
    "        .format(\"memory\")\\\n",
    "        .start()"
   ]
  },
  {
   "cell_type": "code",
   "execution_count": 5,
   "id": "e438e73a",
   "metadata": {},
   "outputs": [],
   "source": [
    "alertQuery = ds \\\n",
    "        .writeStream \\\n",
    "        .queryName(\"qalerts\")\\\n",
    "        .format(\"memory\")\\\n",
    "        .start()"
   ]
  },
  {
   "cell_type": "code",
   "execution_count": 6,
   "id": "8345ca9b",
   "metadata": {},
   "outputs": [
    {
     "name": "stdout",
     "output_type": "stream",
     "text": [
      "+-----+\n",
      "|value|\n",
      "+-----+\n",
      "|    0|\n",
      "|    1|\n",
      "|    2|\n",
      "|    3|\n",
      "|    4|\n",
      "|    5|\n",
      "|    6|\n",
      "|    7|\n",
      "|    8|\n",
      "|    9|\n",
      "+-----+\n",
      "\n"
     ]
    }
   ],
   "source": [
    "raw = spark.sql(\"select * from qalerts\")\n",
    "raw.show()"
   ]
  },
  {
   "cell_type": "code",
   "execution_count": 7,
   "id": "55a2acbb",
   "metadata": {},
   "outputs": [
    {
     "name": "stdout",
     "output_type": "stream",
     "text": [
      "+--------------------+-----+\n",
      "|           timestamp|value|\n",
      "+--------------------+-----+\n",
      "|2022-04-03 05:14:...|    0|\n",
      "|2022-04-03 05:14:...|    1|\n",
      "|2022-04-03 05:14:...|    2|\n",
      "|2022-04-03 05:14:...|    3|\n",
      "|2022-04-03 05:14:...|    4|\n",
      "|2022-04-03 05:14:...|    5|\n",
      "|2022-04-03 05:14:...|    6|\n",
      "|2022-04-03 05:14:...|    7|\n",
      "|2022-04-03 05:14:...|    8|\n",
      "|2022-04-03 05:14:...|    9|\n",
      "|2022-04-03 05:15:...|   10|\n",
      "|2022-04-03 05:15:...|   11|\n",
      "|2022-04-03 05:15:...|   12|\n",
      "|2022-04-03 05:15:...|   13|\n",
      "+--------------------+-----+\n",
      "\n"
     ]
    }
   ],
   "source": [
    "raw = spark.sql(\"select * from qraw\")\n",
    "raw.show()"
   ]
  },
  {
   "cell_type": "code",
   "execution_count": null,
   "id": "c38ee846",
   "metadata": {},
   "outputs": [],
   "source": []
  },
  {
   "cell_type": "code",
   "execution_count": null,
   "id": "041a0716",
   "metadata": {},
   "outputs": [],
   "source": []
  }
 ],
 "metadata": {
  "kernelspec": {
   "display_name": "Python 3",
   "language": "python",
   "name": "python3"
  },
  "language_info": {
   "codemirror_mode": {
    "name": "ipython",
    "version": 3
   },
   "file_extension": ".py",
   "mimetype": "text/x-python",
   "name": "python",
   "nbconvert_exporter": "python",
   "pygments_lexer": "ipython3",
   "version": "3.6.13"
  }
 },
 "nbformat": 4,
 "nbformat_minor": 5
}

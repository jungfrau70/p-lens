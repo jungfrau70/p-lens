{
 "cells": [
  {
   "cell_type": "code",
   "execution_count": 1,
   "id": "1473f29d-e37e-4d28-812b-e271bcea58dd",
   "metadata": {},
   "outputs": [
    {
     "name": "stdout",
     "output_type": "stream",
     "text": [
      "Overwriting fraud_detection/fraud_processor.py\n"
     ]
    }
   ],
   "source": [
    "%%writefile fraud_detection/fraud_processor.py\n",
    "from kafka import KafkaConsumer\n",
    "import json\n",
    "\n",
    "FRAUD_TOPIC = \"fraud_payments\"\n",
    "brokers = [\"kafka1:19091\", \"kafka2:19092\", \"kafka3:19093\"]\n",
    "consumer = KafkaConsumer(FRAUD_TOPIC, bootstrap_servers=brokers)\n",
    "\n",
    "for message in consumer:\n",
    "  msg = json.loads(message.value.decode())\n",
    "  to = msg[\"TO\"]\n",
    "  amount = msg[\"AMOUNT\"]\n",
    "  if msg[\"TO\"] == \"stranger\":\n",
    "    print(f\"[ALERT] fraud detected payment to: {to} - {amount}\")\n",
    "  else:\n",
    "    print(f\"[PROCESSING BITCOIN] payment to: {to} - {amount}\")\n"
   ]
  },
  {
   "cell_type": "code",
   "execution_count": null,
   "id": "05c9a2c8-e94c-4e7a-bec5-4e2693150ca5",
   "metadata": {},
   "outputs": [
    {
     "name": "stdout",
     "output_type": "stream",
     "text": [
      "[PROCESSING BITCOIN] payment to: mom - 46\n",
      "[ALERT] fraud detected payment to: stranger - 81\n",
      "[ALERT] fraud detected payment to: stranger - 67\n",
      "[PROCESSING BITCOIN] payment to: dad - 40\n",
      "[PROCESSING BITCOIN] payment to: me - 83\n",
      "[PROCESSING BITCOIN] payment to: mom - 16\n",
      "[PROCESSING BITCOIN] payment to: me - 96\n",
      "[PROCESSING BITCOIN] payment to: mom - 25\n",
      "[PROCESSING BITCOIN] payment to: me - 81\n",
      "[PROCESSING BITCOIN] payment to: me - 98\n",
      "[PROCESSING BITCOIN] payment to: friend - 88\n",
      "[ALERT] fraud detected payment to: stranger - 45\n",
      "[PROCESSING BITCOIN] payment to: friend - 59\n",
      "[PROCESSING BITCOIN] payment to: mom - 36\n",
      "[PROCESSING BITCOIN] payment to: dad - 55\n",
      "[ALERT] fraud detected payment to: stranger - 10\n",
      "[PROCESSING BITCOIN] payment to: friend - 44\n",
      "[PROCESSING BITCOIN] payment to: dad - 14\n",
      "[PROCESSING BITCOIN] payment to: friend - 96\n",
      "[PROCESSING BITCOIN] payment to: me - 14\n",
      "[PROCESSING BITCOIN] payment to: dad - 55\n",
      "[PROCESSING BITCOIN] payment to: dad - 56\n",
      "[ALERT] fraud detected payment to: stranger - 26\n",
      "[PROCESSING BITCOIN] payment to: friend - 11\n",
      "[PROCESSING BITCOIN] payment to: friend - 94\n",
      "[ALERT] fraud detected payment to: stranger - 64\n",
      "[PROCESSING BITCOIN] payment to: dad - 25\n",
      "[PROCESSING BITCOIN] payment to: me - 86\n",
      "[PROCESSING BITCOIN] payment to: dad - 75\n",
      "[ALERT] fraud detected payment to: stranger - 44\n",
      "[PROCESSING BITCOIN] payment to: me - 81\n",
      "[PROCESSING BITCOIN] payment to: mom - 53\n",
      "[ALERT] fraud detected payment to: stranger - 93\n",
      "[ALERT] fraud detected payment to: stranger - 49\n",
      "[PROCESSING BITCOIN] payment to: dad - 14\n",
      "[ALERT] fraud detected payment to: stranger - 11\n",
      "[PROCESSING BITCOIN] payment to: mom - 48\n",
      "[PROCESSING BITCOIN] payment to: dad - 34\n",
      "[PROCESSING BITCOIN] payment to: friend - 24\n",
      "[ALERT] fraud detected payment to: stranger - 1\n",
      "[PROCESSING BITCOIN] payment to: friend - 7\n",
      "[PROCESSING BITCOIN] payment to: me - 84\n",
      "[ALERT] fraud detected payment to: stranger - 3\n",
      "[PROCESSING BITCOIN] payment to: mom - 1\n",
      "[PROCESSING BITCOIN] payment to: dad - 13\n",
      "[ALERT] fraud detected payment to: stranger - 39\n",
      "[PROCESSING BITCOIN] payment to: friend - 19\n"
     ]
    }
   ],
   "source": [
    "! python3 fraud_detection/fraud_processor.py"
   ]
  },
  {
   "cell_type": "code",
   "execution_count": null,
   "id": "3eb5cf82-230c-42df-8e98-258081567291",
   "metadata": {},
   "outputs": [],
   "source": []
  }
 ],
 "metadata": {
  "kernelspec": {
   "display_name": "Python 3",
   "language": "python",
   "name": "python3"
  },
  "language_info": {
   "codemirror_mode": {
    "name": "ipython",
    "version": 3
   },
   "file_extension": ".py",
   "mimetype": "text/x-python",
   "name": "python",
   "nbconvert_exporter": "python",
   "pygments_lexer": "ipython3",
   "version": "3.6.13"
  }
 },
 "nbformat": 4,
 "nbformat_minor": 5
}

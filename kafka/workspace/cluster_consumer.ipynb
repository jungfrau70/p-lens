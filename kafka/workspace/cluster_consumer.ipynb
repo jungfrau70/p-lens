{
 "cells": [
  {
   "cell_type": "markdown",
   "id": "99b81d86-dd39-49ab-a7ca-706bf3bd0c49",
   "metadata": {},
   "source": [
    "# first-cluster-topic with One Partition"
   ]
  },
  {
   "cell_type": "code",
   "execution_count": 1,
   "id": "2c6c3995-61c2-4dbc-b18a-713409526fba",
   "metadata": {},
   "outputs": [],
   "source": [
    "from kafka import KafkaConsumer "
   ]
  },
  {
   "cell_type": "code",
   "execution_count": 2,
   "id": "0cc494b8-2359-44cd-9a1c-517fc25fddc2",
   "metadata": {},
   "outputs": [
    {
     "name": "stdout",
     "output_type": "stream",
     "text": [
      "<class 'kafka.consumer.group.KafkaConsumer'>\n"
     ]
    }
   ],
   "source": [
    "print(KafkaConsumer)"
   ]
  },
  {
   "cell_type": "code",
   "execution_count": 5,
   "id": "e5844492-ccfa-44e6-98e2-44837d376416",
   "metadata": {},
   "outputs": [
    {
     "name": "stdout",
     "output_type": "stream",
     "text": [
      "Overwriting ./cluster/cluster-consumer.py\n"
     ]
    }
   ],
   "source": [
    "%%writefile ./cluster/cluster-consumer.py\n",
    "\n",
    "from kafka import KafkaConsumer \n",
    "\n",
    "brokers = [\"kafka1:19091\", \"kafka2:19092\", \"kafka3:19093\"]\n",
    "# brokers = [\"kafka1:9091\", \"kafka2:9092\", \"kafka3:9093\"]\n",
    "\n",
    "# consumer works like a python generator\n",
    "consumer = KafkaConsumer(\"first-cluster-topic\", bootstrap_servers=brokers) \n",
    "\n",
    "for message in consumer:\n",
    "  print(message)\n"
   ]
  },
  {
   "cell_type": "code",
   "execution_count": null,
   "id": "a90fa918-c8d6-4f78-9524-c37a48b4390e",
   "metadata": {},
   "outputs": [
    {
     "name": "stdout",
     "output_type": "stream",
     "text": [
      "ConsumerRecord(topic='first-cluster-topic', partition=0, offset=0, timestamp=1648946899634, timestamp_type=0, key=None, value=b'Hello cluster world 2', headers=[], checksum=None, serialized_key_size=-1, serialized_value_size=21, serialized_header_size=-1)\n",
      "ConsumerRecord(topic='first-cluster-topic', partition=0, offset=1, timestamp=1648946933041, timestamp_type=0, key=None, value=b'Hello cluster world 2', headers=[], checksum=None, serialized_key_size=-1, serialized_value_size=21, serialized_header_size=-1)\n"
     ]
    }
   ],
   "source": [
    "! python3 ./cluster/cluster-consumer.py"
   ]
  },
  {
   "cell_type": "code",
   "execution_count": null,
   "id": "bca3e31f-435b-4222-b823-58716677587e",
   "metadata": {},
   "outputs": [],
   "source": []
  },
  {
   "cell_type": "markdown",
   "id": "9b247589-7ee8-4527-8f6a-a2673580262e",
   "metadata": {},
   "source": [
    "# 3rd-cluster-topic with 3 Partitions"
   ]
  },
  {
   "cell_type": "code",
   "execution_count": 1,
   "id": "fed06358-c168-43a5-ab54-a161a345d07b",
   "metadata": {},
   "outputs": [
    {
     "name": "stdout",
     "output_type": "stream",
     "text": [
      "Writing ./cluster/cluster-consumer-3partitions.py\n"
     ]
    }
   ],
   "source": [
    "%%writefile ./cluster/cluster-consumer-3partitions.py\n",
    "\n",
    "from kafka import KafkaConsumer \n",
    "\n",
    "brokers = [\"kafka1:19091\", \"kafka2:19092\", \"kafka3:19093\"]\n",
    "# brokers = [\"kafka1:9091\", \"kafka2:9092\", \"kafka3:9093\"]\n",
    "\n",
    "# consumer works like a python generator\n",
    "consumer = KafkaConsumer(\"3rd-cluster-topic\", bootstrap_servers=brokers) \n",
    "\n",
    "for message in consumer:\n",
    "  print(message)\n"
   ]
  },
  {
   "cell_type": "code",
   "execution_count": null,
   "id": "e4462499-7d1c-4070-a5f2-25e65c75781a",
   "metadata": {},
   "outputs": [
    {
     "name": "stdout",
     "output_type": "stream",
     "text": [
      "ConsumerRecord(topic='3rd-cluster-topic', partition=2, offset=1, timestamp=1648205633844, timestamp_type=0, key=None, value=b'Hello cluster world 2', headers=[], checksum=None, serialized_key_size=-1, serialized_value_size=21, serialized_header_size=-1)\n"
     ]
    }
   ],
   "source": [
    "! python3 ./cluster/cluster-consumer-3partitions.py"
   ]
  },
  {
   "cell_type": "markdown",
   "id": "82e68cea-374a-4719-89e3-85bdaba60209",
   "metadata": {},
   "source": []
  }
 ],
 "metadata": {
  "kernelspec": {
   "display_name": "Python 3",
   "language": "python",
   "name": "python3"
  },
  "language_info": {
   "codemirror_mode": {
    "name": "ipython",
    "version": 3
   },
   "file_extension": ".py",
   "mimetype": "text/x-python",
   "name": "python",
   "nbconvert_exporter": "python",
   "pygments_lexer": "ipython3",
   "version": "3.6.13"
  }
 },
 "nbformat": 4,
 "nbformat_minor": 5
}
